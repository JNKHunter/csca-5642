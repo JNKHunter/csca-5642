{
 "cells": [
  {
   "cell_type": "markdown",
   "id": "7e2e6ba7",
   "metadata": {},
   "source": [
    "## Brief description of the problem and data"
   ]
  },
  {
   "cell_type": "markdown",
   "id": "ac4eac5d",
   "metadata": {},
   "source": [
    "### Problem Description\n",
    "\n",
    "The Kaggle challenge involves constructing an algorithm to detect cancer in small image patches extracted from larger digital pathology slides. Specifically, the task is to predict the probability that the central 32x32 pixel region of each image patch contains at least one pixel of tumor tissue.\n",
    "\n",
    "Data Structure and Details\n",
    "The dataset is derived from the PatchCamelyon (PCam) benchmark dataset. Each image patch represents a small region of a pathology slide, designed to be processed quickly. The central 32x32px area of each patch is what determines the tumor presence label. Each image patch contains additional outer regions beyond the central 32x32px core, which supports models using fully convolutional layers without zero-padding. The train_labels.csv: contains ground truth labels for training images, identifying each image by its ID. Test images are not lables, and the task is to predict their probability of containing tumor tissue. The dataset is relatively large, and provides ample examples to train a deep learning model for image classification.\n",
    "\n",
    "I will use a convolutional neural network (CNNs) becasue this class of model is typically effective in extracting patterns from data."
   ]
  },
  {
   "cell_type": "markdown",
   "id": "66c7de84",
   "metadata": {},
   "source": [
    "### Exploratory data analysis\n",
    "Import libraries and load training labels"
   ]
  },
  {
   "cell_type": "code",
   "execution_count": 1,
   "id": "e98f5dbb",
   "metadata": {},
   "outputs": [
    {
     "data": {
      "text/html": [
       "<div>\n",
       "<style scoped>\n",
       "    .dataframe tbody tr th:only-of-type {\n",
       "        vertical-align: middle;\n",
       "    }\n",
       "\n",
       "    .dataframe tbody tr th {\n",
       "        vertical-align: top;\n",
       "    }\n",
       "\n",
       "    .dataframe thead th {\n",
       "        text-align: right;\n",
       "    }\n",
       "</style>\n",
       "<table border=\"1\" class=\"dataframe\">\n",
       "  <thead>\n",
       "    <tr style=\"text-align: right;\">\n",
       "      <th></th>\n",
       "      <th>id</th>\n",
       "      <th>label</th>\n",
       "    </tr>\n",
       "  </thead>\n",
       "  <tbody>\n",
       "    <tr>\n",
       "      <th>0</th>\n",
       "      <td>f38a6374c348f90b587e046aac6079959adf3835</td>\n",
       "      <td>0</td>\n",
       "    </tr>\n",
       "    <tr>\n",
       "      <th>1</th>\n",
       "      <td>c18f2d887b7ae4f6742ee445113fa1aef383ed77</td>\n",
       "      <td>1</td>\n",
       "    </tr>\n",
       "    <tr>\n",
       "      <th>2</th>\n",
       "      <td>755db6279dae599ebb4d39a9123cce439965282d</td>\n",
       "      <td>0</td>\n",
       "    </tr>\n",
       "    <tr>\n",
       "      <th>3</th>\n",
       "      <td>bc3f0c64fb968ff4a8bd33af6971ecae77c75e08</td>\n",
       "      <td>0</td>\n",
       "    </tr>\n",
       "    <tr>\n",
       "      <th>4</th>\n",
       "      <td>068aba587a4950175d04c680d38943fd488d6a9d</td>\n",
       "      <td>0</td>\n",
       "    </tr>\n",
       "  </tbody>\n",
       "</table>\n",
       "</div>"
      ],
      "text/plain": [
       "                                         id  label\n",
       "0  f38a6374c348f90b587e046aac6079959adf3835      0\n",
       "1  c18f2d887b7ae4f6742ee445113fa1aef383ed77      1\n",
       "2  755db6279dae599ebb4d39a9123cce439965282d      0\n",
       "3  bc3f0c64fb968ff4a8bd33af6971ecae77c75e08      0\n",
       "4  068aba587a4950175d04c680d38943fd488d6a9d      0"
      ]
     },
     "execution_count": 1,
     "metadata": {},
     "output_type": "execute_result"
    }
   ],
   "source": [
    "import pandas as pd\n",
    "import matplotlib.pyplot as plt\n",
    "import seaborn as sns\n",
    "from PIL import Image\n",
    "import os\n",
    "\n",
    "import warnings\n",
    "warnings.filterwarnings('ignore')\n",
    "\n",
    "train_labels = pd.read_csv('data/train_labels.csv')\n",
    "train_labels.head()"
   ]
  },
  {
   "cell_type": "markdown",
   "id": "70359061",
   "metadata": {},
   "source": [
    "The label column provides a binary classification: 0 for no tumor, 1 for tumor presence in the 32x32px image"
   ]
  },
  {
   "cell_type": "code",
   "execution_count": 2,
   "id": "eac6d570",
   "metadata": {},
   "outputs": [
    {
     "name": "stdout",
     "output_type": "stream",
     "text": [
      "<class 'pandas.core.frame.DataFrame'>\n",
      "RangeIndex: 220025 entries, 0 to 220024\n",
      "Data columns (total 2 columns):\n",
      " #   Column  Non-Null Count   Dtype \n",
      "---  ------  --------------   ----- \n",
      " 0   id      220025 non-null  object\n",
      " 1   label   220025 non-null  int64 \n",
      "dtypes: int64(1), object(1)\n",
      "memory usage: 3.4+ MB\n"
     ]
    },
    {
     "data": {
      "text/plain": [
       "label\n",
       "0    0.594969\n",
       "1    0.405031\n",
       "Name: proportion, dtype: float64"
      ]
     },
     "execution_count": 2,
     "metadata": {},
     "output_type": "execute_result"
    }
   ],
   "source": [
    "# Check for null values and basic statistics\n",
    "train_labels.info()\n",
    "train_labels['label'].value_counts(normalize=True)"
   ]
  },
  {
   "cell_type": "markdown",
   "id": "55c9905d",
   "metadata": {},
   "source": [
    "### Label distribution"
   ]
  },
  {
   "cell_type": "code",
   "execution_count": 3,
   "id": "d747488d",
   "metadata": {},
   "outputs": [
    {
     "data": {
      "image/png": "[encoded data removed]",
      "text/plain": [
       "<Figure size 640x480 with 1 Axes>"
      ]
     },
     "metadata": {},
     "output_type": "display_data"
    }
   ],
   "source": [
    "sns.histplot(train_labels['label'], kde=False, bins=2)\n",
    "plt.xlabel('Label (0: No Tumor, 1: Tumor)')\n",
    "plt.ylabel('Frequency')\n",
    "plt.title('Distribution of Labels in Training Data')\n",
    "plt.show()"
   ]
  },
  {
   "cell_type": "markdown",
   "id": "744f8f02",
   "metadata": {},
   "source": [
    "There appears to be a modest imbalance in the data distribution with approximately 400k more images showing no cancer. I may need to explore sampling techniques or weighting the classes during model training."
   ]
  },
  {
   "cell_type": "code",
   "execution_count": 4,
   "id": "7acb6f97",
   "metadata": {},
   "outputs": [
    {
     "data": {
      "image/png": "[encoded data removed]",
      "text/plain": [
       "<Figure size 640x480 with 1 Axes>"
      ]
     },
     "metadata": {},
     "output_type": "display_data"
    }
   ],
   "source": [
    "import numpy as np\n",
    "\n",
    "def calculate_mean_intensity(image_path):\n",
    "    image = Image.open(image_path)\n",
    "    image_array = np.array(image)\n",
    "    return np.mean(image_array)\n",
    "\n",
    "sample_data = train_labels.sample(1000)\n",
    "sample_data['mean_intensity'] = sample_data['id'].apply(lambda x: calculate_mean_intensity(os.path.join('data/train', f'{x}.tif')))\n",
    "\n",
    "sns.histplot(data=sample_data, x='mean_intensity', hue='label', bins=30, kde=True)\n",
    "plt.title('Mean Pixel Intensity by Class')\n",
    "plt.xlabel('Mean Pixel Intensity')\n",
    "plt.ylabel('Frequency')\n",
    "plt.show()"
   ]
  },
  {
   "cell_type": "markdown",
   "id": "e1154902",
   "metadata": {},
   "source": [
    "This intensity plot can help identify whether there’s a visible difference in pixel intensity between tumor and non-tumor images, perhaps helping to understand whether color/intensity could be useful for classification."
   ]
  },
  {
   "cell_type": "markdown",
   "id": "e1a218a6",
   "metadata": {},
   "source": [
    "### Verify images"
   ]
  },
  {
   "cell_type": "code",
   "execution_count": 5,
   "id": "1241238f",
   "metadata": {},
   "outputs": [
    {
     "name": "stdout",
     "output_type": "stream",
     "text": [
      "Image ID: f0c2a0b8ef3024f407fa97d852d49be0215cafe0.tif, Size: (96, 96)\n",
      "Image ID: 99ef485f205645918613cd04281098daa7c17819.tif, Size: (96, 96)\n",
      "Image ID: e2612e173abd0e8bb54a3c3db3f264b63d80bffb.tif, Size: (96, 96)\n",
      "Image ID: 6d1bb57c0606f05dbd75f90a8d9e21a57e1267e0.tif, Size: (96, 96)\n",
      "Image ID: 9c043ab2adadfeb758c71d21432fccd3e43565c0.tif, Size: (96, 96)\n"
     ]
    }
   ],
   "source": [
    "sample_images = os.listdir('data/train')[:5]\n",
    "for img_id in sample_images:\n",
    "    img = Image.open(os.path.join('data/train', img_id))\n",
    "    print(f'Image ID: {img_id}, Size: {img.size}')"
   ]
  },
  {
   "cell_type": "markdown",
   "id": "860d51d4",
   "metadata": {},
   "source": [
    "The images are 96x96 pixels in size. We will have to keep that in mind as we are sampling pixels. The center 32x32 region is where we will predict the presence of tumors.\n",
    "\n",
    "The data is pre-processed with no nulls or duplicate images."
   ]
  },
  {
   "cell_type": "markdown",
   "id": "cd44a60a",
   "metadata": {},
   "source": [
    "### Plan of analysis and model architecture\n",
    "Convolutional Neural Network (CNN) architectures are a strong choice, leveraging approaches like like ResNet or EfficientNet to classify these image patches.\n",
    "\n",
    "First I will preprocess the data and augment it. I will use techniques such as rotations, reflections, and zooming in to help mitigate imbalances in classes and improve model correctness. I'll use AUC-ROC or log loss as the evaluation metric because these metrics are suitable for binary classification and probability prediction tasks. Class weights or oversampling may be used if tumor vs. no tumor classes are significantly imbalanced. I will also implement cross-validation to ensure generalization across unseen test data. This plan will allow me to build a great classification model to identify tumor tissue in the pathology images with a high degree of accuracy."
   ]
  },
  {
   "cell_type": "code",
   "execution_count": 6,
   "id": "f200bc7d",
   "metadata": {},
   "outputs": [
    {
     "name": "stderr",
     "output_type": "stream",
     "text": [
      "2024-11-17 09:51:58.900518: I tensorflow/core/platform/cpu_feature_guard.cc:210] This TensorFlow binary is optimized to use available CPU instructions in performance-critical operations.\n",
      "To enable the following instructions: AVX2 FMA, in other operations, rebuild TensorFlow with the appropriate compiler flags.\n"
     ]
    }
   ],
   "source": [
    "import tensorflow as tf\n",
    "from tensorflow.keras import layers, models, applications\n",
    "\n",
    "def build_baseline_cnn(input_shape):\n",
    "    model = models.Sequential([\n",
    "        layers.Conv2D(32, (3, 3), activation='relu', input_shape=input_shape),\n",
    "        layers.MaxPooling2D((2, 2)),\n",
    "        layers.Conv2D(64, (3, 3), activation='relu'),\n",
    "        layers.MaxPooling2D((2, 2)),\n",
    "        layers.Conv2D(128, (3, 3), activation='relu'),\n",
    "        layers.MaxPooling2D((2, 2)),\n",
    "        layers.Flatten(),\n",
    "        layers.Dropout(0.5),\n",
    "        layers.Dense(128, activation='relu'),\n",
    "        layers.Dense(1, activation='sigmoid')\n",
    "    ])\n",
    "    return model\n",
    "\n",
    "def build_efficientnet_model(input_shape):\n",
    "    base_model = applications.EfficientNetB0(include_top=False, input_shape=input_shape, weights='imagenet')\n",
    "    base_model.trainable = False\n",
    "    model = models.Sequential([\n",
    "        base_model,\n",
    "        layers.GlobalAveragePooling2D(),\n",
    "        layers.Dense(128, activation='relu'),\n",
    "        layers.Dropout(0.5),\n",
    "        layers.Dense(1, activation='sigmoid')\n",
    "    ])\n",
    "    return model\n",
    "\n",
    "input_shape = (96, 96, 3)\n",
    "baseline_model = build_baseline_cnn(input_shape)\n",
    "efficientnet_model = build_efficientnet_model(input_shape)"
   ]
  },
  {
   "cell_type": "code",
   "execution_count": 7,
   "id": "fa6c9486-b7b0-45af-b0fb-7a573efeaeb2",
   "metadata": {},
   "outputs": [],
   "source": [
    "import pandas as pd\n",
    "import numpy as np\n",
    "import os\n",
    "from PIL import Image\n",
    "from sklearn.model_selection import train_test_split\n",
    "\n",
    "labels_df = pd.read_csv('data/train_labels.csv')\n",
    "\n",
    "def load_images(data, image_folder):\n",
    "    images = []\n",
    "    for img_id in data['id']:\n",
    "        img_path = os.path.join(image_folder, f'{img_id}.tif')\n",
    "        \n",
    "        if os.path.exists(img_path):\n",
    "            image = Image.open(img_path).resize((96, 96))\n",
    "            images.append(np.array(image))\n",
    "        else:\n",
    "            print(f\"Image {img_id}.tif not found.\")\n",
    "    \n",
    "    return np.array(images)\n",
    "\n",
    "sampled_labels_df = labels_df.sample(frac=0.1, random_state=42)\n",
    "\n",
    "X = load_images(sampled_labels_df, 'data/train')\n",
    "y = sampled_labels_df['label'].values\n",
    "\n",
    "X_train, X_val, y_train, y_val = train_test_split(X, y, test_size=0.2, random_state=42)\n"
   ]
  },
  {
   "cell_type": "code",
   "execution_count": 15,
   "id": "43777dd7-90fa-4cd5-8830-1de049135393",
   "metadata": {},
   "outputs": [
    {
     "name": "stdout",
     "output_type": "stream",
     "text": [
      "Epoch 1/5\n",
      "\u001b[1m551/551\u001b[0m \u001b[32m━━━━━━━━━━━━━━━━━━━━\u001b[0m\u001b[37m\u001b[0m \u001b[1m104s\u001b[0m 184ms/step - accuracy: 0.7814 - loss: 0.4751 - val_accuracy: 0.5974 - val_loss: 333.0296\n",
      "Epoch 2/5\n",
      "\u001b[1m551/551\u001b[0m \u001b[32m━━━━━━━━━━━━━━━━━━━━\u001b[0m\u001b[37m\u001b[0m \u001b[1m105s\u001b[0m 191ms/step - accuracy: 0.7910 - loss: 0.4539 - val_accuracy: 0.5974 - val_loss: 272.1335\n",
      "Epoch 3/5\n",
      "\u001b[1m551/551\u001b[0m \u001b[32m━━━━━━━━━━━━━━━━━━━━\u001b[0m\u001b[37m\u001b[0m \u001b[1m119s\u001b[0m 216ms/step - accuracy: 0.8048 - loss: 0.4351 - val_accuracy: 0.5974 - val_loss: 396.8587\n",
      "Epoch 4/5\n",
      "\u001b[1m551/551\u001b[0m \u001b[32m━━━━━━━━━━━━━━━━━━━━\u001b[0m\u001b[37m\u001b[0m \u001b[1m118s\u001b[0m 214ms/step - accuracy: 0.8088 - loss: 0.4301 - val_accuracy: 0.5974 - val_loss: 369.3760\n",
      "Epoch 5/5\n",
      "\u001b[1m551/551\u001b[0m \u001b[32m━━━━━━━━━━━━━━━━━━━━\u001b[0m\u001b[37m\u001b[0m \u001b[1m115s\u001b[0m 208ms/step - accuracy: 0.8157 - loss: 0.4175 - val_accuracy: 0.5974 - val_loss: 596.8737\n",
      "Epoch 1/5\n",
      "\u001b[1m551/551\u001b[0m \u001b[32m━━━━━━━━━━━━━━━━━━━━\u001b[0m\u001b[37m\u001b[0m \u001b[1m704s\u001b[0m 1s/step - accuracy: 0.5667 - loss: 0.6996 - val_accuracy: 0.5581 - val_loss: 8.9875\n",
      "Epoch 2/5\n",
      "\u001b[1m551/551\u001b[0m \u001b[32m━━━━━━━━━━━━━━━━━━━━\u001b[0m\u001b[37m\u001b[0m \u001b[1m649s\u001b[0m 1s/step - accuracy: 0.7294 - loss: 0.5447 - val_accuracy: 0.5383 - val_loss: 61.2360\n",
      "Epoch 3/5\n",
      "\u001b[1m551/551\u001b[0m \u001b[32m━━━━━━━━━━━━━━━━━━━━\u001b[0m\u001b[37m\u001b[0m \u001b[1m539s\u001b[0m 978ms/step - accuracy: 0.7703 - loss: 0.4939 - val_accuracy: 0.5687 - val_loss: 86.4909\n",
      "Epoch 4/5\n",
      "\u001b[1m551/551\u001b[0m \u001b[32m━━━━━━━━━━━━━━━━━━━━\u001b[0m\u001b[37m\u001b[0m \u001b[1m605s\u001b[0m 1s/step - accuracy: 0.7905 - loss: 0.4578 - val_accuracy: 0.5583 - val_loss: 83.3325\n",
      "Epoch 5/5\n",
      "\u001b[1m551/551\u001b[0m \u001b[32m━━━━━━━━━━━━━━━━━━━━\u001b[0m\u001b[37m\u001b[0m \u001b[1m582s\u001b[0m 1s/step - accuracy: 0.7996 - loss: 0.4423 - val_accuracy: 0.5642 - val_loss: 102.8625\n"
     ]
    }
   ],
   "source": [
    "from tensorflow.keras.preprocessing.image import ImageDataGenerator\n",
    "from tensorflow.keras.callbacks import EarlyStopping\n",
    "\n",
    "datagen = ImageDataGenerator(\n",
    "    rotation_range=20,\n",
    "    width_shift_range=0.2,\n",
    "    height_shift_range=0.2,\n",
    "    horizontal_flip=True,\n",
    "    rescale=1./255\n",
    ")\n",
    "\n",
    "baseline_model.compile(optimizer=tf.keras.optimizers.Adam(learning_rate=0.001),\n",
    "                       loss='binary_crossentropy', metrics=['accuracy'])\n",
    "efficientnet_model.compile(optimizer=tf.keras.optimizers.Adam(learning_rate=0.0001),\n",
    "                           loss='binary_crossentropy', metrics=['accuracy'])\n",
    "\n",
    "early_stopping = EarlyStopping(monitor='val_loss', patience=5, restore_best_weights=True)\n",
    "\n",
    "\n",
    "history_baseline = baseline_model.fit(datagen.flow(X_train, y_train, batch_size=32),\n",
    "                                      epochs=5, validation_data=(X_val, y_val),\n",
    "                                      callbacks=[early_stopping])\n",
    "\n",
    "\n",
    "efficientnet_model.layers[0].trainable = True\n",
    "efficientnet_model.compile(optimizer=tf.keras.optimizers.Adam(learning_rate=1e-5),\n",
    "                           loss='binary_crossentropy', metrics=['accuracy'])\n",
    "history_efficientnet = efficientnet_model.fit(datagen.flow(X_train, y_train, batch_size=32),\n",
    "                                              epochs=5, validation_data=(X_val, y_val),\n",
    "                                              callbacks=[early_stopping])\n"
   ]
  },
  {
   "cell_type": "markdown",
   "id": "ad7cad22-25ee-4be6-8503-d8da0c788176",
   "metadata": {},
   "source": [
    "### Results and analysis\n",
    "The baseline model achieves a reasonable training accuracy (about 81%) but struggles with validation accuracy, which is stuck around 60%. Validation loss is unusually high, reaching over 600, which suggests significant overfitting. The loss fluctuates rather than gradually decreasing, indicating potential instability or that the model has trouble generalizing.\n",
    "\n",
    "THe EfficientNet Model model starts with a low training accuracy but improves, eventually reaching close to 80%. However, like the baseline, its validation accuracy does not improve much beyond the 55–58% range. The validation loss is also very high, indicating overfitting despite transfer learning.\n",
    "\n",
    "I tried a lower learning rate to allow more stable, smaller updates. Start with something around `1e-4` for the baseline model and `5e-5` for EfficientNet, as these models might benefit from more gradual adjustments. I also experimented with a larger batch size if memory allows. This can stabilize gradient updates and sometimes improve convergence. While Adam is usually effective, in the future I might want to try optimizers like SGD with momentum or RMSprop, which could help with stability."
   ]
  },
  {
   "cell_type": "markdown",
   "id": "9776c50c-9749-4a07-b905-db63fd4f79fe",
   "metadata": {},
   "source": [
    "### Conclusion\n",
    "This experiment explored two distinct convolutional neural network (CNN) architectures for identifying cancerous regions in pathology images using the PatchCamelyon (PCam) benchmark dataset: a baseline CNN model and an EfficientNetB0 model leveraging transfer learning. The primary goal was to achieve high accuracy in identifying cancer-positive samples while avoiding overfitting on a challenging, high-dimensional dataset. Overall, while the models showed some promise, further adjustments and a refined approach are needed to build a model capable of performing robust, generalized cancer detection in pathology images. This experiment highlighted both the challenges of deep learning on medical images and the potential of iterative improvement through thoughtful architecture selection, regularization, and hyperparameter tuning."
   ]
  },
  {
   "cell_type": "markdown",
   "id": "ddd829a7-9090-401b-83a9-f643d1e3c5b4",
   "metadata": {},
   "source": [
    "### Output the submission to Kaggle"
   ]
  },
  {
   "cell_type": "code",
   "execution_count": 13,
   "id": "5aadccaf-a29e-424f-a11e-d2fa0993bd90",
   "metadata": {},
   "outputs": [
    {
     "name": "stdout",
     "output_type": "stream",
     "text": [
      "\u001b[1m1796/1796\u001b[0m \u001b[32m━━━━━━━━━━━━━━━━━━━━\u001b[0m\u001b[37m\u001b[0m \u001b[1m105s\u001b[0m 58ms/step\n",
      "Submission file 'submission.csv' created successfully.\n"
     ]
    }
   ],
   "source": [
    "import numpy as np\n",
    "\n",
    "test_df = pd.read_csv('data/sample_submission.csv')\n",
    "test_dir = 'data/test'\n",
    "\n",
    "test_images = []\n",
    "test_ids = test_df['id']\n",
    "\n",
    "for img_id in test_ids:\n",
    "    img_path = os.path.join(test_dir, f\"{img_id}.tif\")\n",
    "    image = Image.open(img_path).resize((96, 96))\n",
    "    test_images.append(np.array(image) / 255.0)\n",
    "\n",
    "X_test = np.array(test_images, dtype=np.float32)\n",
    "\n",
    "predictions = baseline_model.predict(X_test, verbose=1).flatten()\n",
    "predicted_labels = (predictions > 0.5).astype(int)\n",
    "submission_df = pd.DataFrame({'id': test_ids, 'label': predicted_labels})\n",
    "submission_df['id'] = submission_df['id'].str.replace('.tif', '', regex=False)\n",
    "submission_df.to_csv('data/submission.csv', index=False)\n"
   ]
  }
 ],
 "metadata": {
  "kernelspec": {
   "display_name": "Python 3 (ipykernel)",
   "language": "python",
   "name": "python3"
  },
  "language_info": {
   "codemirror_mode": {
    "name": "ipython",
    "version": 3
   },
   "file_extension": ".py",
   "mimetype": "text/x-python",
   "name": "python",
   "nbconvert_exporter": "python",
   "pygments_lexer": "ipython3",
   "version": "3.9.20"
  }
 },
 "nbformat": 4,
 "nbformat_minor": 5
}
