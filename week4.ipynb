{
 "cells": [
  {
   "cell_type": "markdown",
   "id": "4a3bbdbb-a1b8-488e-90a3-d751caed2ed6",
   "metadata": {},
   "source": [
    "### NLP with Disaster Tweets\n",
    "This Kaggle challenge is a binary classification task to predict whether a given tweet relates to a real disaster or not. This involves applying natural language processing (NLP) techniques to analyze the content of the tweets and classify them as either disaster-related or not disaster-related.\n",
    "\n",
    "#### The data\n",
    "This dataset contains 10,000 tweets and 5 columns. Each of the training data entries have been manually labeled as either disaster-related or not. These are the column names and definitions:\n",
    "- id: Unique identifier for each tweet.\n",
    "- keyword: A keyword from the tweet that might give insight into whether it is disaster-related. This field may contain missing values.\n",
    "- location: Information about where the tweet originated, although this field is often incomplete or noisy.\n",
    "- text: The actual content of the tweet, which forms the main data for the task. Tweets are written in various styles, may include slang, typos, emojis, or URLs, making NLP processing challenging.\n",
    "- target: The label indicating if the tweet is about a disaster (1 for disaster-related, 0 for not disaster-related)."
   ]
  },
  {
   "cell_type": "code",
   "execution_count": 42,
   "id": "8a95c965-ff34-45cd-bb8f-22c8d100b81b",
   "metadata": {},
   "outputs": [
    {
     "data": {
      "text/html": [
       "<div>\n",
       "<style scoped>\n",
       "    .dataframe tbody tr th:only-of-type {\n",
       "        vertical-align: middle;\n",
       "    }\n",
       "\n",
       "    .dataframe tbody tr th {\n",
       "        vertical-align: top;\n",
       "    }\n",
       "\n",
       "    .dataframe thead th {\n",
       "        text-align: right;\n",
       "    }\n",
       "</style>\n",
       "<table border=\"1\" class=\"dataframe\">\n",
       "  <thead>\n",
       "    <tr style=\"text-align: right;\">\n",
       "      <th></th>\n",
       "      <th>id</th>\n",
       "      <th>keyword</th>\n",
       "      <th>location</th>\n",
       "      <th>text</th>\n",
       "      <th>target</th>\n",
       "    </tr>\n",
       "  </thead>\n",
       "  <tbody>\n",
       "    <tr>\n",
       "      <th>0</th>\n",
       "      <td>1</td>\n",
       "      <td>NaN</td>\n",
       "      <td>NaN</td>\n",
       "      <td>Our Deeds are the Reason of this #earthquake M...</td>\n",
       "      <td>1</td>\n",
       "    </tr>\n",
       "    <tr>\n",
       "      <th>1</th>\n",
       "      <td>4</td>\n",
       "      <td>NaN</td>\n",
       "      <td>NaN</td>\n",
       "      <td>Forest fire near La Ronge Sask. Canada</td>\n",
       "      <td>1</td>\n",
       "    </tr>\n",
       "    <tr>\n",
       "      <th>2</th>\n",
       "      <td>5</td>\n",
       "      <td>NaN</td>\n",
       "      <td>NaN</td>\n",
       "      <td>All residents asked to 'shelter in place' are ...</td>\n",
       "      <td>1</td>\n",
       "    </tr>\n",
       "    <tr>\n",
       "      <th>3</th>\n",
       "      <td>6</td>\n",
       "      <td>NaN</td>\n",
       "      <td>NaN</td>\n",
       "      <td>13,000 people receive #wildfires evacuation or...</td>\n",
       "      <td>1</td>\n",
       "    </tr>\n",
       "    <tr>\n",
       "      <th>4</th>\n",
       "      <td>7</td>\n",
       "      <td>NaN</td>\n",
       "      <td>NaN</td>\n",
       "      <td>Just got sent this photo from Ruby #Alaska as ...</td>\n",
       "      <td>1</td>\n",
       "    </tr>\n",
       "    <tr>\n",
       "      <th>...</th>\n",
       "      <td>...</td>\n",
       "      <td>...</td>\n",
       "      <td>...</td>\n",
       "      <td>...</td>\n",
       "      <td>...</td>\n",
       "    </tr>\n",
       "    <tr>\n",
       "      <th>95</th>\n",
       "      <td>137</td>\n",
       "      <td>accident</td>\n",
       "      <td>Charlotte</td>\n",
       "      <td>9 Mile backup on I-77 South...accident blockin...</td>\n",
       "      <td>1</td>\n",
       "    </tr>\n",
       "    <tr>\n",
       "      <th>96</th>\n",
       "      <td>138</td>\n",
       "      <td>accident</td>\n",
       "      <td>Baton Rouge, LA</td>\n",
       "      <td>Has an accident changed your life? We will hel...</td>\n",
       "      <td>0</td>\n",
       "    </tr>\n",
       "    <tr>\n",
       "      <th>97</th>\n",
       "      <td>139</td>\n",
       "      <td>accident</td>\n",
       "      <td>Hagerstown, MD</td>\n",
       "      <td>#BREAKING: there was a deadly motorcycle car a...</td>\n",
       "      <td>1</td>\n",
       "    </tr>\n",
       "    <tr>\n",
       "      <th>98</th>\n",
       "      <td>141</td>\n",
       "      <td>accident</td>\n",
       "      <td>Gloucestershire , UK</td>\n",
       "      <td>@flowri were you marinading it or was it an ac...</td>\n",
       "      <td>0</td>\n",
       "    </tr>\n",
       "    <tr>\n",
       "      <th>99</th>\n",
       "      <td>143</td>\n",
       "      <td>accident</td>\n",
       "      <td>NaN</td>\n",
       "      <td>only had a car for not even a week and got in ...</td>\n",
       "      <td>1</td>\n",
       "    </tr>\n",
       "  </tbody>\n",
       "</table>\n",
       "<p>100 rows × 5 columns</p>\n",
       "</div>"
      ],
      "text/plain": [
       "     id   keyword              location  \\\n",
       "0     1       NaN                   NaN   \n",
       "1     4       NaN                   NaN   \n",
       "2     5       NaN                   NaN   \n",
       "3     6       NaN                   NaN   \n",
       "4     7       NaN                   NaN   \n",
       "..  ...       ...                   ...   \n",
       "95  137  accident             Charlotte   \n",
       "96  138  accident       Baton Rouge, LA   \n",
       "97  139  accident        Hagerstown, MD   \n",
       "98  141  accident  Gloucestershire , UK   \n",
       "99  143  accident                   NaN   \n",
       "\n",
       "                                                 text  target  \n",
       "0   Our Deeds are the Reason of this #earthquake M...       1  \n",
       "1              Forest fire near La Ronge Sask. Canada       1  \n",
       "2   All residents asked to 'shelter in place' are ...       1  \n",
       "3   13,000 people receive #wildfires evacuation or...       1  \n",
       "4   Just got sent this photo from Ruby #Alaska as ...       1  \n",
       "..                                                ...     ...  \n",
       "95  9 Mile backup on I-77 South...accident blockin...       1  \n",
       "96  Has an accident changed your life? We will hel...       0  \n",
       "97  #BREAKING: there was a deadly motorcycle car a...       1  \n",
       "98  @flowri were you marinading it or was it an ac...       0  \n",
       "99  only had a car for not even a week and got in ...       1  \n",
       "\n",
       "[100 rows x 5 columns]"
      ]
     },
     "execution_count": 42,
     "metadata": {},
     "output_type": "execute_result"
    }
   ],
   "source": [
    "import pandas as pd\n",
    "import matplotlib.pyplot as plt\n",
    "import seaborn as sns\n",
    "import re\n",
    "\n",
    "# Load the data\n",
    "file_path = 'data/train.csv'\n",
    "data = pd.read_csv(file_path)\n",
    "data.head(100)"
   ]
  },
  {
   "cell_type": "markdown",
   "id": "c36fad7f-e7c3-416e-9551-2d7305c53834",
   "metadata": {},
   "source": [
    "It looks like keyword and location may be columns containing all Nulls. Let's do a bit more exploration before we decide to delete those columns."
   ]
  },
  {
   "cell_type": "code",
   "execution_count": 43,
   "id": "581fb539-ca70-43b0-a96f-d8de43f4e24c",
   "metadata": {},
   "outputs": [
    {
     "name": "stdout",
     "output_type": "stream",
     "text": [
      "<class 'pandas.core.frame.DataFrame'>\n",
      "RangeIndex: 7613 entries, 0 to 7612\n",
      "Data columns (total 5 columns):\n",
      " #   Column    Non-Null Count  Dtype \n",
      "---  ------    --------------  ----- \n",
      " 0   id        7613 non-null   int64 \n",
      " 1   keyword   7552 non-null   object\n",
      " 2   location  5080 non-null   object\n",
      " 3   text      7613 non-null   object\n",
      " 4   target    7613 non-null   int64 \n",
      "dtypes: int64(2), object(3)\n",
      "memory usage: 297.5+ KB\n",
      "id             0\n",
      "keyword       61\n",
      "location    2533\n",
      "text           0\n",
      "target         0\n",
      "dtype: int64\n"
     ]
    }
   ],
   "source": [
    "# Checking for missing values\n",
    "data.info()\n",
    "missing_values = data.isnull().sum()\n",
    "print(missing_values)"
   ]
  },
  {
   "cell_type": "code",
   "execution_count": 45,
   "id": "cf06e44b-a644-4b28-89d5-fd5d331b0f52",
   "metadata": {},
   "outputs": [
    {
     "name": "stdout",
     "output_type": "stream",
     "text": [
      "<class 'pandas.core.frame.DataFrame'>\n",
      "RangeIndex: 7613 entries, 0 to 7612\n",
      "Data columns (total 6 columns):\n",
      " #   Column        Non-Null Count  Dtype \n",
      "---  ------        --------------  ----- \n",
      " 0   id            7613 non-null   int64 \n",
      " 1   keyword       7552 non-null   object\n",
      " 2   location      5080 non-null   object\n",
      " 3   text          7613 non-null   object\n",
      " 4   target        7613 non-null   int64 \n",
      " 5   tweet_length  7613 non-null   int64 \n",
      "dtypes: int64(3), object(3)\n",
      "memory usage: 357.0+ KB\n"
     ]
    },
    {
     "data": {
      "image/png": "[encoded data removed]",
      "text/plain": [
       "<Figure size 1000x500 with 1 Axes>"
      ]
     },
     "metadata": {},
     "output_type": "display_data"
    },
    {
     "data": {
      "image/png": "[encoded data removed]",
      "text/plain": [
       "<Figure size 600x400 with 1 Axes>"
      ]
     },
     "metadata": {},
     "output_type": "display_data"
    },
    {
     "data": {
      "image/png": "[encoded data removed]",
      "text/plain": [
       "<Figure size 1000x600 with 1 Axes>"
      ]
     },
     "metadata": {},
     "output_type": "display_data"
    },
    {
     "data": {
      "image/png": "[encoded data removed]",
      "text/plain": [
       "<Figure size 1200x600 with 1 Axes>"
      ]
     },
     "metadata": {},
     "output_type": "display_data"
    },
    {
     "data": {
      "image/png": "[encoded data removed]",
      "text/plain": [
       "<Figure size 1200x600 with 1 Axes>"
      ]
     },
     "metadata": {},
     "output_type": "display_data"
    },
    {
     "data": {
      "text/plain": [
       "id                 0\n",
       "keyword           61\n",
       "location        2533\n",
       "text               0\n",
       "target             0\n",
       "tweet_length       0\n",
       "dtype: int64"
      ]
     },
     "execution_count": 45,
     "metadata": {},
     "output_type": "execute_result"
    }
   ],
   "source": [
    "data.info()\n",
    "\n",
    "missing_values = data.isnull().sum()\n",
    "\n",
    "# Visualize missing\n",
    "plt.figure(figsize=(10, 5))\n",
    "sns.heatmap(data.isnull(), cbar=False, cmap='viridis')\n",
    "plt.title('Heatmap of Missing Values')\n",
    "plt.show()\n",
    "\n",
    "# Plot target distribution\n",
    "plt.figure(figsize=(6, 4))\n",
    "sns.countplot(x='target', data=data)\n",
    "plt.title('Distribution of Target Labels')\n",
    "plt.xlabel('Target (0 = Not Disaster, 1 = Disaster)')\n",
    "plt.ylabel('Count')\n",
    "plt.show()\n",
    "\n",
    "# Visualizing length of the tweets\n",
    "data['tweet_length'] = data['text'].apply(len)\n",
    "plt.figure(figsize=(10, 6))\n",
    "sns.histplot(data['tweet_length'], bins=30, kde=True)\n",
    "plt.title('Distribution of Tweet Length')\n",
    "plt.xlabel('Tweet Length (characters)')\n",
    "plt.ylabel('Frequency')\n",
    "plt.show()\n",
    "\n",
    "# Visualize the number of tweets per keyword\n",
    "plt.figure(figsize=(12, 6))\n",
    "sns.countplot(y='keyword', data=data, order=data['keyword'].value_counts().index[:20])\n",
    "plt.title('Top 20 Keywords in Tweets')\n",
    "plt.xlabel('Count')\n",
    "plt.ylabel('Keyword')\n",
    "plt.show()\n",
    "\n",
    "# Visualizing the number of tweets per location\n",
    "plt.figure(figsize=(12, 6))\n",
    "sns.countplot(y='location', data=data, order=data['location'].value_counts().index[:20])\n",
    "plt.title('Top 20 Locations in Tweets')\n",
    "plt.xlabel('Count')\n",
    "plt.ylabel('Location')\n",
    "plt.show()\n",
    "\n",
    "# Display the number of missing values per column\n",
    "missing_values\n"
   ]
  },
  {
   "cell_type": "markdown",
   "id": "f9bc5203-6871-49f0-a8d9-5db490f4e0ab",
   "metadata": {},
   "source": [
    "I will drop the location field because of the number of nulls. The keyword is also missing any semantic meaning so I will drop the keyword column as well"
   ]
  },
  {
   "cell_type": "markdown",
   "id": "c3b5c6d2-098f-45f3-9b0e-244da1c7be5e",
   "metadata": {},
   "source": [
    "### Data cleaning\n",
    "I didn't want to have to download the NLTK corpus so I went with a simple regex cleaning approach. Let's see how it works out for me."
   ]
  },
  {
   "cell_type": "code",
   "execution_count": 46,
   "id": "cf647bba-fa5f-4593-bb12-8a436b341ec5",
   "metadata": {},
   "outputs": [
    {
     "data": {
      "text/html": [
       "<div>\n",
       "<style scoped>\n",
       "    .dataframe tbody tr th:only-of-type {\n",
       "        vertical-align: middle;\n",
       "    }\n",
       "\n",
       "    .dataframe tbody tr th {\n",
       "        vertical-align: top;\n",
       "    }\n",
       "\n",
       "    .dataframe thead th {\n",
       "        text-align: right;\n",
       "    }\n",
       "</style>\n",
       "<table border=\"1\" class=\"dataframe\">\n",
       "  <thead>\n",
       "    <tr style=\"text-align: right;\">\n",
       "      <th></th>\n",
       "      <th>text</th>\n",
       "      <th>cleaned_text</th>\n",
       "    </tr>\n",
       "  </thead>\n",
       "  <tbody>\n",
       "    <tr>\n",
       "      <th>0</th>\n",
       "      <td>Our Deeds are the Reason of this #earthquake M...</td>\n",
       "      <td>our deeds are the reason of this earthquake ma...</td>\n",
       "    </tr>\n",
       "    <tr>\n",
       "      <th>1</th>\n",
       "      <td>Forest fire near La Ronge Sask. Canada</td>\n",
       "      <td>forest fire near la ronge sask canada</td>\n",
       "    </tr>\n",
       "    <tr>\n",
       "      <th>2</th>\n",
       "      <td>All residents asked to 'shelter in place' are ...</td>\n",
       "      <td>all residents asked to shelter in place are be...</td>\n",
       "    </tr>\n",
       "    <tr>\n",
       "      <th>3</th>\n",
       "      <td>13,000 people receive #wildfires evacuation or...</td>\n",
       "      <td>people receive wildfires evacuation orders in...</td>\n",
       "    </tr>\n",
       "    <tr>\n",
       "      <th>4</th>\n",
       "      <td>Just got sent this photo from Ruby #Alaska as ...</td>\n",
       "      <td>just got sent this photo from ruby alaska as s...</td>\n",
       "    </tr>\n",
       "  </tbody>\n",
       "</table>\n",
       "</div>"
      ],
      "text/plain": [
       "                                                text  \\\n",
       "0  Our Deeds are the Reason of this #earthquake M...   \n",
       "1             Forest fire near La Ronge Sask. Canada   \n",
       "2  All residents asked to 'shelter in place' are ...   \n",
       "3  13,000 people receive #wildfires evacuation or...   \n",
       "4  Just got sent this photo from Ruby #Alaska as ...   \n",
       "\n",
       "                                        cleaned_text  \n",
       "0  our deeds are the reason of this earthquake ma...  \n",
       "1              forest fire near la ronge sask canada  \n",
       "2  all residents asked to shelter in place are be...  \n",
       "3   people receive wildfires evacuation orders in...  \n",
       "4  just got sent this photo from ruby alaska as s...  "
      ]
     },
     "execution_count": 46,
     "metadata": {},
     "output_type": "execute_result"
    }
   ],
   "source": [
    "data_cleaned = data.drop(columns=['keyword', 'location'])\n",
    "\n",
    "def simple_clean_text(text):\n",
    "    # Clean out URLs\n",
    "    text = re.sub(r'http\\S+|www\\S+|https\\S+', '', text, flags=re.MULTILINE)\n",
    "    # Remove special characters\n",
    "    text = re.sub(r'[^A-Za-z\\s]', '', text)\n",
    "    # Lowercase\n",
    "    text = text.lower()\n",
    "    return text\n",
    "\n",
    "data_cleaned['cleaned_text'] = data_cleaned['text'].apply(simple_clean_text)\n",
    "data_cleaned[['text', 'cleaned_text']].head()\n"
   ]
  },
  {
   "cell_type": "markdown",
   "id": "9741ddbe-2962-47f2-a5dc-08514707d2d5",
   "metadata": {},
   "source": [
    "### EDA results\n",
    "- The dataset consists of 10,000 rows and 3 main columns: id, text, and target.\n",
    "- The keyword, location, had many nulls and both columns will not have an effect on our model. So I dropped them.\n",
    "- A histogram was generated to understand the distribution of tweet lengths. Most tweets are within a reasonable length for Twitter, but understanding this helps in deciding how to truncate or pad sequences during preprocessing.\n",
    "\n",
    "### Plan of analysis\n",
    "- Clean the tweet text by removing URLs, punctuation, special characters, and converting text to lowercase\n",
    "- Remove stop words and potentially use stemming or lemmatization to standardize the words.\n",
    "- Convert the cleaned tweet text into numerical representations using techniques such as Bag of Words, TF-IDF, or Word Embeddings (e.g., Word2Vec or GloVe)\n",
    "- Train different machine learning models such as Logistic Regression, Random Forest, or Naive Bayes on the extracted features.\n",
    "Additionally, experiment with deep learning models like LSTMs or BERT for potential better accuracy.\n",
    "- Split the dataset into training and validation sets to evaluate model performance.\n",
    "Use accuracy, precision, recall, and F1 score as metrics to evaluate the model’s capability."
   ]
  },
  {
   "cell_type": "markdown",
   "id": "9541f605-5d90-4244-a971-83ea3923b2e7",
   "metadata": {},
   "source": [
    "### Data extraction using TD-IDF\n",
    "TF-IDF helps to reduce the importance of very common words (like \"the\", \"and\") across the corpeus. This reduces the noise in the dataset and makes it easier to train the model on the more meaningful words. It allows us to identify key terms from each document and focus on those that are more likely to provide insightgs on whether a tweet is related to a disaster."
   ]
  },
  {
   "cell_type": "code",
   "execution_count": 47,
   "id": "f2852f5b-4438-4202-85fd-b613735aad5f",
   "metadata": {},
   "outputs": [
    {
     "data": {
      "text/html": [
       "<div>\n",
       "<style scoped>\n",
       "    .dataframe tbody tr th:only-of-type {\n",
       "        vertical-align: middle;\n",
       "    }\n",
       "\n",
       "    .dataframe tbody tr th {\n",
       "        vertical-align: top;\n",
       "    }\n",
       "\n",
       "    .dataframe thead th {\n",
       "        text-align: right;\n",
       "    }\n",
       "</style>\n",
       "<table border=\"1\" class=\"dataframe\">\n",
       "  <thead>\n",
       "    <tr style=\"text-align: right;\">\n",
       "      <th></th>\n",
       "      <th>abc</th>\n",
       "      <th>ablaze</th>\n",
       "      <th>accident</th>\n",
       "      <th>actually</th>\n",
       "      <th>affected</th>\n",
       "      <th>ago</th>\n",
       "      <th>air</th>\n",
       "      <th>airplane</th>\n",
       "      <th>airport</th>\n",
       "      <th>ambulance</th>\n",
       "      <th>...</th>\n",
       "      <th>wreckage</th>\n",
       "      <th>wrecked</th>\n",
       "      <th>year</th>\n",
       "      <th>yearold</th>\n",
       "      <th>years</th>\n",
       "      <th>yes</th>\n",
       "      <th>youre</th>\n",
       "      <th>youtube</th>\n",
       "      <th>yr</th>\n",
       "      <th>zone</th>\n",
       "    </tr>\n",
       "  </thead>\n",
       "  <tbody>\n",
       "    <tr>\n",
       "      <th>0</th>\n",
       "      <td>0.0</td>\n",
       "      <td>0.0</td>\n",
       "      <td>0.0</td>\n",
       "      <td>0.0</td>\n",
       "      <td>0.0</td>\n",
       "      <td>0.0</td>\n",
       "      <td>0.0</td>\n",
       "      <td>0.0</td>\n",
       "      <td>0.0</td>\n",
       "      <td>0.0</td>\n",
       "      <td>...</td>\n",
       "      <td>0.0</td>\n",
       "      <td>0.0</td>\n",
       "      <td>0.0</td>\n",
       "      <td>0.0</td>\n",
       "      <td>0.0</td>\n",
       "      <td>0.0</td>\n",
       "      <td>0.0</td>\n",
       "      <td>0.0</td>\n",
       "      <td>0.0</td>\n",
       "      <td>0.0</td>\n",
       "    </tr>\n",
       "    <tr>\n",
       "      <th>1</th>\n",
       "      <td>0.0</td>\n",
       "      <td>0.0</td>\n",
       "      <td>0.0</td>\n",
       "      <td>0.0</td>\n",
       "      <td>0.0</td>\n",
       "      <td>0.0</td>\n",
       "      <td>0.0</td>\n",
       "      <td>0.0</td>\n",
       "      <td>0.0</td>\n",
       "      <td>0.0</td>\n",
       "      <td>...</td>\n",
       "      <td>0.0</td>\n",
       "      <td>0.0</td>\n",
       "      <td>0.0</td>\n",
       "      <td>0.0</td>\n",
       "      <td>0.0</td>\n",
       "      <td>0.0</td>\n",
       "      <td>0.0</td>\n",
       "      <td>0.0</td>\n",
       "      <td>0.0</td>\n",
       "      <td>0.0</td>\n",
       "    </tr>\n",
       "    <tr>\n",
       "      <th>2</th>\n",
       "      <td>0.0</td>\n",
       "      <td>0.0</td>\n",
       "      <td>0.0</td>\n",
       "      <td>0.0</td>\n",
       "      <td>0.0</td>\n",
       "      <td>0.0</td>\n",
       "      <td>0.0</td>\n",
       "      <td>0.0</td>\n",
       "      <td>0.0</td>\n",
       "      <td>0.0</td>\n",
       "      <td>...</td>\n",
       "      <td>0.0</td>\n",
       "      <td>0.0</td>\n",
       "      <td>0.0</td>\n",
       "      <td>0.0</td>\n",
       "      <td>0.0</td>\n",
       "      <td>0.0</td>\n",
       "      <td>0.0</td>\n",
       "      <td>0.0</td>\n",
       "      <td>0.0</td>\n",
       "      <td>0.0</td>\n",
       "    </tr>\n",
       "    <tr>\n",
       "      <th>3</th>\n",
       "      <td>0.0</td>\n",
       "      <td>0.0</td>\n",
       "      <td>0.0</td>\n",
       "      <td>0.0</td>\n",
       "      <td>0.0</td>\n",
       "      <td>0.0</td>\n",
       "      <td>0.0</td>\n",
       "      <td>0.0</td>\n",
       "      <td>0.0</td>\n",
       "      <td>0.0</td>\n",
       "      <td>...</td>\n",
       "      <td>0.0</td>\n",
       "      <td>0.0</td>\n",
       "      <td>0.0</td>\n",
       "      <td>0.0</td>\n",
       "      <td>0.0</td>\n",
       "      <td>0.0</td>\n",
       "      <td>0.0</td>\n",
       "      <td>0.0</td>\n",
       "      <td>0.0</td>\n",
       "      <td>0.0</td>\n",
       "    </tr>\n",
       "    <tr>\n",
       "      <th>4</th>\n",
       "      <td>0.0</td>\n",
       "      <td>0.0</td>\n",
       "      <td>0.0</td>\n",
       "      <td>0.0</td>\n",
       "      <td>0.0</td>\n",
       "      <td>0.0</td>\n",
       "      <td>0.0</td>\n",
       "      <td>0.0</td>\n",
       "      <td>0.0</td>\n",
       "      <td>0.0</td>\n",
       "      <td>...</td>\n",
       "      <td>0.0</td>\n",
       "      <td>0.0</td>\n",
       "      <td>0.0</td>\n",
       "      <td>0.0</td>\n",
       "      <td>0.0</td>\n",
       "      <td>0.0</td>\n",
       "      <td>0.0</td>\n",
       "      <td>0.0</td>\n",
       "      <td>0.0</td>\n",
       "      <td>0.0</td>\n",
       "    </tr>\n",
       "  </tbody>\n",
       "</table>\n",
       "<p>5 rows × 500 columns</p>\n",
       "</div>"
      ],
      "text/plain": [
       "   abc  ablaze  accident  actually  affected  ago  air  airplane  airport  \\\n",
       "0  0.0     0.0       0.0       0.0       0.0  0.0  0.0       0.0      0.0   \n",
       "1  0.0     0.0       0.0       0.0       0.0  0.0  0.0       0.0      0.0   \n",
       "2  0.0     0.0       0.0       0.0       0.0  0.0  0.0       0.0      0.0   \n",
       "3  0.0     0.0       0.0       0.0       0.0  0.0  0.0       0.0      0.0   \n",
       "4  0.0     0.0       0.0       0.0       0.0  0.0  0.0       0.0      0.0   \n",
       "\n",
       "   ambulance  ...  wreckage  wrecked  year  yearold  years  yes  youre  \\\n",
       "0        0.0  ...       0.0      0.0   0.0      0.0    0.0  0.0    0.0   \n",
       "1        0.0  ...       0.0      0.0   0.0      0.0    0.0  0.0    0.0   \n",
       "2        0.0  ...       0.0      0.0   0.0      0.0    0.0  0.0    0.0   \n",
       "3        0.0  ...       0.0      0.0   0.0      0.0    0.0  0.0    0.0   \n",
       "4        0.0  ...       0.0      0.0   0.0      0.0    0.0  0.0    0.0   \n",
       "\n",
       "   youtube   yr  zone  \n",
       "0      0.0  0.0   0.0  \n",
       "1      0.0  0.0   0.0  \n",
       "2      0.0  0.0   0.0  \n",
       "3      0.0  0.0   0.0  \n",
       "4      0.0  0.0   0.0  \n",
       "\n",
       "[5 rows x 500 columns]"
      ]
     },
     "execution_count": 47,
     "metadata": {},
     "output_type": "execute_result"
    }
   ],
   "source": [
    "from sklearn.feature_extraction.text import TfidfVectorizer\n",
    "\n",
    "# Initialize the TF-IDF Vectorizer\n",
    "tfidf_vectorizer = TfidfVectorizer(max_features=500, stop_words='english')\n",
    "\n",
    "# Fit and transform the cleaned text data\n",
    "tfidf_features = tfidf_vectorizer.fit_transform(data_cleaned['cleaned_text'])\n",
    "\n",
    "# Convert to a DataFrame for better visualization\n",
    "tfidf_df = pd.DataFrame(tfidf_features.toarray(), columns=tfidf_vectorizer.get_feature_names_out())\n",
    "\n",
    "# Display the TF-IDF features DataFrame\n",
    "tfidf_df.head()"
   ]
  },
  {
   "cell_type": "markdown",
   "id": "067981a9-82d8-4fcb-a92a-c2368529ffb8",
   "metadata": {},
   "source": [
    "### Logistic regression"
   ]
  },
  {
   "cell_type": "code",
   "execution_count": 48,
   "id": "a434301e-3e38-4660-a220-fd7e6607df4b",
   "metadata": {},
   "outputs": [
    {
     "name": "stdout",
     "output_type": "stream",
     "text": [
      "Accuracy: 0.78\n",
      "\n",
      "Confusion Matrix:\n",
      "[[755 119]\n",
      " [213 436]]\n",
      "\n",
      "Classification Report:\n",
      "              precision    recall  f1-score   support\n",
      "\n",
      "           0       0.78      0.86      0.82       874\n",
      "           1       0.79      0.67      0.72       649\n",
      "\n",
      "    accuracy                           0.78      1523\n",
      "   macro avg       0.78      0.77      0.77      1523\n",
      "weighted avg       0.78      0.78      0.78      1523\n",
      "\n"
     ]
    }
   ],
   "source": [
    "from sklearn.model_selection import train_test_split\n",
    "from sklearn.linear_model import LogisticRegression\n",
    "from sklearn.metrics import classification_report, accuracy_score, confusion_matrix\n",
    "\n",
    "# Splitting the dataset into training and test sets\n",
    "X = tfidf_df  # TF-IDF features\n",
    "y = data_cleaned['target']  # Target labels\n",
    "\n",
    "X_train, X_test, y_train, y_test = train_test_split(X, y, test_size=0.2, random_state=42)\n",
    "\n",
    "# Initialize Logistic Regression model\n",
    "logistic_model = LogisticRegression()\n",
    "\n",
    "# Train the model\n",
    "logistic_model.fit(X_train, y_train)\n",
    "\n",
    "# Make predictions on the test set\n",
    "y_pred = logistic_model.predict(X_test)\n",
    "\n",
    "# Evaluate the model\n",
    "accuracy = accuracy_score(y_test, y_pred)\n",
    "confusion = confusion_matrix(y_test, y_pred)\n",
    "report = classification_report(y_test, y_pred)\n",
    "\n",
    "# Display results\n",
    "print(f\"Accuracy: {accuracy:.2f}\")\n",
    "print(\"\\nConfusion Matrix:\")\n",
    "print(confusion)\n",
    "print(\"\\nClassification Report:\")\n",
    "print(report)\n"
   ]
  },
  {
   "cell_type": "markdown",
   "id": "ea915a6d-c43d-45a3-874b-9dc14b071dd7",
   "metadata": {},
   "source": [
    "These results suggest that the logistic regression model is performing reasonably well on the full dataset, with an overall accuracy of 78%. Here are a few observations:\n",
    "\n",
    "Class 0 (Not Disaster) is predicted quite well, with a precision of 0.78 and a recall of 0.86.\n",
    "Class 1 (Disaster) has lower performance, with a recall of 0.67, indicating that some disaster-related tweets are being missed.\n",
    "Precision and F1 Score for class 1 are also reasonable, but there is room for improvement."
   ]
  },
  {
   "cell_type": "markdown",
   "id": "613c82d8-123d-4b19-a5a9-71c87ecc25ab",
   "metadata": {},
   "source": [
    "### Parameter tuning"
   ]
  },
  {
   "cell_type": "code",
   "execution_count": 49,
   "id": "3eec65ed-f794-445a-b3c2-63f3c371115c",
   "metadata": {},
   "outputs": [
    {
     "name": "stdout",
     "output_type": "stream",
     "text": [
      "Fitting 5 folds for each of 20 candidates, totalling 100 fits\n"
     ]
    },
    {
     "name": "stderr",
     "output_type": "stream",
     "text": [
      "/Users/John/anaconda3/envs/tf/lib/python3.9/site-packages/sklearn/linear_model/_sag.py:349: ConvergenceWarning: The max_iter was reached which means the coef_ did not converge\n",
      "  warnings.warn(\n"
     ]
    },
    {
     "data": {
      "text/plain": [
       "({'C': 1, 'penalty': 'l1', 'solver': 'liblinear'}, 0.7798029556650247)"
      ]
     },
     "execution_count": 49,
     "metadata": {},
     "output_type": "execute_result"
    }
   ],
   "source": [
    "from sklearn.model_selection import GridSearchCV\n",
    "\n",
    "# Define the parameter grid for Logistic Regression\n",
    "param_grid = {\n",
    "    'C': [0.01, 0.1, 1, 10, 100],  # Regularization\n",
    "    'penalty': ['l1', 'l2'],       # Regularization types\n",
    "    'solver': ['liblinear', 'saga'] # Solvers\n",
    "}\n",
    "\n",
    "logistic_model = LogisticRegression(max_iter=1000)\n",
    "\n",
    "# Use GridSearchCV to find search the best hyperparameteers\n",
    "grid_search = GridSearchCV(logistic_model, param_grid, cv=5, scoring='accuracy', n_jobs=-1, verbose=2)\n",
    "\n",
    "grid_search.fit(X_train, y_train)\n",
    "\n",
    "# Get the best parameters\n",
    "best_params = grid_search.best_params_\n",
    "best_score = grid_search.best_score_\n",
    "\n",
    "best_params, best_score"
   ]
  },
  {
   "cell_type": "markdown",
   "id": "6302aa38-00cd-47ea-8d92-711515d20def",
   "metadata": {},
   "source": [
    "### Results of hyperparameter tuning\n",
    "Use the best hyperparameters (C=1, penalty='l1', solver='liblinear') to retrain the model on the entire training set."
   ]
  },
  {
   "cell_type": "code",
   "execution_count": 30,
   "id": "f67984f8-7f5b-4729-9bac-117e7d4661f0",
   "metadata": {},
   "outputs": [
    {
     "data": {
      "text/plain": [
       "(0.7741300065659882,\n",
       " array([[758, 116],\n",
       "        [228, 421]]),\n",
       " '              precision    recall  f1-score   support\\n\\n           0       0.77      0.87      0.82       874\\n           1       0.78      0.65      0.71       649\\n\\n    accuracy                           0.77      1523\\n   macro avg       0.78      0.76      0.76      1523\\nweighted avg       0.78      0.77      0.77      1523\\n')"
      ]
     },
     "execution_count": 30,
     "metadata": {},
     "output_type": "execute_result"
    }
   ],
   "source": [
    "# Retrain the Logistic Regression model with the best parameters obtained from Grid Search\n",
    "logistic_model_best = LogisticRegression(C=1, penalty='l1', solver='liblinear', max_iter=300)\n",
    "\n",
    "# Fit the model to the training data\n",
    "logistic_model_best.fit(X_train, y_train)\n",
    "\n",
    "# Make predictions on the test set\n",
    "y_pred_best = logistic_model_best.predict(X_test)\n",
    "\n",
    "# Evaluate the retrained model\n",
    "accuracy_best = accuracy_score(y_test, y_pred_best)\n",
    "confusion_best = confusion_matrix(y_test, y_pred_best)\n",
    "report_best = classification_report(y_test, y_pred_best)\n",
    "\n",
    "# Display the evaluation results\n",
    "accuracy_best, confusion_best, report_best\n"
   ]
  },
  {
   "cell_type": "markdown",
   "id": "3cff2b0a-ce27-416b-9bf3-1553ac692b0e",
   "metadata": {},
   "source": [
    "### Analysis of hyperparameter tuning\n",
    "The baseline model seems to perform slightly better overall, particularly in classifying disaster-related tweets (class 1), as it has higher recall and F1 score for that class. So far my baseline model outperforms the tuning of hyperparameters"
   ]
  },
  {
   "cell_type": "markdown",
   "id": "d3ebbd9e-ec83-45aa-87d2-811a53e7bd49",
   "metadata": {},
   "source": [
    "### Random forest\n",
    "The baseline logistic regression model outperformed this random forest model. I will also tune the hyperparameters of the random forest to see if we can beat the baseline logistic regression model."
   ]
  },
  {
   "cell_type": "code",
   "execution_count": 50,
   "id": "23ed09c5-4bb5-4a72-b798-8976922b702b",
   "metadata": {},
   "outputs": [
    {
     "data": {
      "text/plain": [
       "(0.747866053841103,\n",
       " array([[702, 172],\n",
       "        [212, 437]]),\n",
       " '              precision    recall  f1-score   support\\n\\n           0       0.77      0.80      0.79       874\\n           1       0.72      0.67      0.69       649\\n\\n    accuracy                           0.75      1523\\n   macro avg       0.74      0.74      0.74      1523\\nweighted avg       0.75      0.75      0.75      1523\\n')"
      ]
     },
     "execution_count": 50,
     "metadata": {},
     "output_type": "execute_result"
    }
   ],
   "source": [
    "from sklearn.ensemble import RandomForestClassifier\n",
    "\n",
    "random_forest_model = RandomForestClassifier(n_estimators=100, random_state=42)\n",
    "random_forest_model.fit(X_train, y_train)\n",
    "\n",
    "y_pred_rf = random_forest_model.predict(X_test)\n",
    "\n",
    "accuracy_rf = accuracy_score(y_test, y_pred_rf)\n",
    "confusion_rf = confusion_matrix(y_test, y_pred_rf)\n",
    "report_rf = classification_report(y_test, y_pred_rf)\n",
    "\n",
    "accuracy_rf, confusion_rf, report_rf\n"
   ]
  },
  {
   "cell_type": "code",
   "execution_count": 51,
   "id": "2db6a5bb-aaa8-4683-bedc-902bb7fa89a3",
   "metadata": {},
   "outputs": [],
   "source": [
    "### Random forest hyperparameter tuning"
   ]
  },
  {
   "cell_type": "code",
   "execution_count": 52,
   "id": "85e8c5cd-d987-42f7-b2c8-4f3d684ea05f",
   "metadata": {},
   "outputs": [
    {
     "name": "stdout",
     "output_type": "stream",
     "text": [
      "Fitting 3 folds for each of 10 candidates, totalling 30 fits\n"
     ]
    },
    {
     "data": {
      "text/plain": [
       "({'n_estimators': 200,\n",
       "  'min_samples_split': 5,\n",
       "  'min_samples_leaf': 1,\n",
       "  'max_depth': 40,\n",
       "  'class_weight': 'balanced_subsample',\n",
       "  'bootstrap': True},\n",
       " 0.7568144499178983)"
      ]
     },
     "execution_count": 52,
     "metadata": {},
     "output_type": "execute_result"
    }
   ],
   "source": [
    "from sklearn.model_selection import RandomizedSearchCV\n",
    "\n",
    "param_grid_rf = {\n",
    "    'n_estimators': [50, 100, 200, 300],\n",
    "    'max_depth': [None, 10, 20, 30, 40],\n",
    "    'min_samples_split': [2, 5, 10],\n",
    "    'min_samples_leaf': [1, 2, 4],\n",
    "    'bootstrap': [True, False],\n",
    "    'class_weight': ['balanced', 'balanced_subsample', None]\n",
    "}\n",
    "\n",
    "random_forest_model = RandomForestClassifier(random_state=42)\n",
    "random_search_rf = RandomizedSearchCV(random_forest_model, param_grid_rf, n_iter=10, cv=3, scoring='accuracy', n_jobs=-1, verbose=2, random_state=42)\n",
    "random_search_rf.fit(X_train, y_train)\n",
    "\n",
    "best_params_rf = random_search_rf.best_params_\n",
    "best_score_rf = random_search_rf.best_score_\n",
    "\n",
    "best_params_rf, best_score_rf\n"
   ]
  },
  {
   "cell_type": "markdown",
   "id": "1e547e96-2d76-4370-9463-edb9b9c12f0f",
   "metadata": {},
   "source": [
    "### Results and analysis\n",
    "Baseline Logistic Regression performed the best in terms of accuracy (78%) and F1 score for disaster-related tweets (0.72). It demonstrated the most balanced performance across both classes, with good precision and recall.\n",
    "The Tuned Logistic Regression model had slightly lower accuracy (77.41%), and its performance for class 1 dropped compared to the baseline.\n",
    "The default Random Forest model showed accuracy of 74.79% and struggled more in classifying disaster tweets (class 1). Its F1 score for disaster-related tweets was also slightly lower than Logistic Regression. The Logistic Regression with Class Weighting performed poorly, as it ended up heavily biased towards class 0 and could not correctly classify any disaster tweets. The Tuned Random Forest showed potential improvements with a cross-validation accuracy of 75.68%, but its final evaluation needs to be compared against other models using test data."
   ]
  },
  {
   "cell_type": "markdown",
   "id": "f626577e-94a9-4ad8-a120-476dbdb84804",
   "metadata": {},
   "source": [
    "### Conclusion\n",
    "Conclusion:\n",
    "Baseline Logistic Regression is currently the best performing model based on accuracy, precision, recall, and F1 score.\n",
    "Tuned Random Forest may be a competitive alternative, but it requires further evaluation to confirm if it can outperform the baseline Logistic Regression on the test set."
   ]
  },
  {
   "cell_type": "markdown",
   "id": "55b9afe4-0d56-447a-97a5-0fcb5d0422f5",
   "metadata": {},
   "source": [
    "### Output for kaggle"
   ]
  },
  {
   "cell_type": "code",
   "execution_count": 53,
   "id": "f9538992-1e5a-4733-ae6c-4f203c2069ae",
   "metadata": {},
   "outputs": [
    {
     "name": "stderr",
     "output_type": "stream",
     "text": [
      "/Users/John/anaconda3/envs/tf/lib/python3.9/site-packages/sklearn/base.py:493: UserWarning: X does not have valid feature names, but LogisticRegression was fitted with feature names\n",
      "  warnings.warn(\n"
     ]
    },
    {
     "data": {
      "text/plain": [
       "'data/submission.csv'"
      ]
     },
     "execution_count": 53,
     "metadata": {},
     "output_type": "execute_result"
    }
   ],
   "source": [
    "from sklearn.model_selection import train_test_split\n",
    "\n",
    "X_train, X_test, y_train, y_test = train_test_split(X, y, test_size=0.2, random_state=42)\n",
    "\n",
    "logistic_model_best = LogisticRegression(C=1, penalty='l1', solver='liblinear', max_iter=300)\n",
    "logistic_model_best.fit(X_train, y_train)  # Re-train the best logistic model on full training set\n",
    "test_predictions = logistic_model_best.predict(test_features)\n",
    "\n",
    "submission = pd.DataFrame({'id': test_data_cleaned['id'], 'target': test_predictions})\n",
    "\n",
    "submission_file_path = 'data/submission.csv'\n",
    "submission.to_csv(submission_file_path, index=False)\n",
    "\n",
    "submission_file_path\n"
   ]
  },
  {
   "cell_type": "code",
   "execution_count": 54,
   "id": "04b70163-1b5f-46bb-b9e6-aaad6afd7322",
   "metadata": {},
   "outputs": [
    {
     "data": {
      "text/html": [
       "<div>\n",
       "<style scoped>\n",
       "    .dataframe tbody tr th:only-of-type {\n",
       "        vertical-align: middle;\n",
       "    }\n",
       "\n",
       "    .dataframe tbody tr th {\n",
       "        vertical-align: top;\n",
       "    }\n",
       "\n",
       "    .dataframe thead th {\n",
       "        text-align: right;\n",
       "    }\n",
       "</style>\n",
       "<table border=\"1\" class=\"dataframe\">\n",
       "  <thead>\n",
       "    <tr style=\"text-align: right;\">\n",
       "      <th></th>\n",
       "      <th>abc</th>\n",
       "      <th>ablaze</th>\n",
       "      <th>accident</th>\n",
       "      <th>actually</th>\n",
       "      <th>affected</th>\n",
       "      <th>ago</th>\n",
       "      <th>air</th>\n",
       "      <th>airplane</th>\n",
       "      <th>airport</th>\n",
       "      <th>ambulance</th>\n",
       "      <th>...</th>\n",
       "      <th>wreckage</th>\n",
       "      <th>wrecked</th>\n",
       "      <th>year</th>\n",
       "      <th>yearold</th>\n",
       "      <th>years</th>\n",
       "      <th>yes</th>\n",
       "      <th>youre</th>\n",
       "      <th>youtube</th>\n",
       "      <th>yr</th>\n",
       "      <th>zone</th>\n",
       "    </tr>\n",
       "  </thead>\n",
       "  <tbody>\n",
       "    <tr>\n",
       "      <th>0</th>\n",
       "      <td>0.0</td>\n",
       "      <td>0.0</td>\n",
       "      <td>0.0</td>\n",
       "      <td>0.0</td>\n",
       "      <td>0.0</td>\n",
       "      <td>0.0</td>\n",
       "      <td>0.0</td>\n",
       "      <td>0.0</td>\n",
       "      <td>0.0</td>\n",
       "      <td>0.0</td>\n",
       "      <td>...</td>\n",
       "      <td>0.0</td>\n",
       "      <td>0.0</td>\n",
       "      <td>0.0</td>\n",
       "      <td>0.0</td>\n",
       "      <td>0.0</td>\n",
       "      <td>0.0</td>\n",
       "      <td>0.0</td>\n",
       "      <td>0.0</td>\n",
       "      <td>0.0</td>\n",
       "      <td>0.0</td>\n",
       "    </tr>\n",
       "    <tr>\n",
       "      <th>1</th>\n",
       "      <td>0.0</td>\n",
       "      <td>0.0</td>\n",
       "      <td>0.0</td>\n",
       "      <td>0.0</td>\n",
       "      <td>0.0</td>\n",
       "      <td>0.0</td>\n",
       "      <td>0.0</td>\n",
       "      <td>0.0</td>\n",
       "      <td>0.0</td>\n",
       "      <td>0.0</td>\n",
       "      <td>...</td>\n",
       "      <td>0.0</td>\n",
       "      <td>0.0</td>\n",
       "      <td>0.0</td>\n",
       "      <td>0.0</td>\n",
       "      <td>0.0</td>\n",
       "      <td>0.0</td>\n",
       "      <td>0.0</td>\n",
       "      <td>0.0</td>\n",
       "      <td>0.0</td>\n",
       "      <td>0.0</td>\n",
       "    </tr>\n",
       "    <tr>\n",
       "      <th>2</th>\n",
       "      <td>0.0</td>\n",
       "      <td>0.0</td>\n",
       "      <td>0.0</td>\n",
       "      <td>0.0</td>\n",
       "      <td>0.0</td>\n",
       "      <td>0.0</td>\n",
       "      <td>0.0</td>\n",
       "      <td>0.0</td>\n",
       "      <td>0.0</td>\n",
       "      <td>0.0</td>\n",
       "      <td>...</td>\n",
       "      <td>0.0</td>\n",
       "      <td>0.0</td>\n",
       "      <td>0.0</td>\n",
       "      <td>0.0</td>\n",
       "      <td>0.0</td>\n",
       "      <td>0.0</td>\n",
       "      <td>0.0</td>\n",
       "      <td>0.0</td>\n",
       "      <td>0.0</td>\n",
       "      <td>0.0</td>\n",
       "    </tr>\n",
       "    <tr>\n",
       "      <th>3</th>\n",
       "      <td>0.0</td>\n",
       "      <td>0.0</td>\n",
       "      <td>0.0</td>\n",
       "      <td>0.0</td>\n",
       "      <td>0.0</td>\n",
       "      <td>0.0</td>\n",
       "      <td>0.0</td>\n",
       "      <td>0.0</td>\n",
       "      <td>0.0</td>\n",
       "      <td>0.0</td>\n",
       "      <td>...</td>\n",
       "      <td>0.0</td>\n",
       "      <td>0.0</td>\n",
       "      <td>0.0</td>\n",
       "      <td>0.0</td>\n",
       "      <td>0.0</td>\n",
       "      <td>0.0</td>\n",
       "      <td>0.0</td>\n",
       "      <td>0.0</td>\n",
       "      <td>0.0</td>\n",
       "      <td>0.0</td>\n",
       "    </tr>\n",
       "    <tr>\n",
       "      <th>4</th>\n",
       "      <td>0.0</td>\n",
       "      <td>0.0</td>\n",
       "      <td>0.0</td>\n",
       "      <td>0.0</td>\n",
       "      <td>0.0</td>\n",
       "      <td>0.0</td>\n",
       "      <td>0.0</td>\n",
       "      <td>0.0</td>\n",
       "      <td>0.0</td>\n",
       "      <td>0.0</td>\n",
       "      <td>...</td>\n",
       "      <td>0.0</td>\n",
       "      <td>0.0</td>\n",
       "      <td>0.0</td>\n",
       "      <td>0.0</td>\n",
       "      <td>0.0</td>\n",
       "      <td>0.0</td>\n",
       "      <td>0.0</td>\n",
       "      <td>0.0</td>\n",
       "      <td>0.0</td>\n",
       "      <td>0.0</td>\n",
       "    </tr>\n",
       "  </tbody>\n",
       "</table>\n",
       "<p>5 rows × 500 columns</p>\n",
       "</div>"
      ],
      "text/plain": [
       "   abc  ablaze  accident  actually  affected  ago  air  airplane  airport  \\\n",
       "0  0.0     0.0       0.0       0.0       0.0  0.0  0.0       0.0      0.0   \n",
       "1  0.0     0.0       0.0       0.0       0.0  0.0  0.0       0.0      0.0   \n",
       "2  0.0     0.0       0.0       0.0       0.0  0.0  0.0       0.0      0.0   \n",
       "3  0.0     0.0       0.0       0.0       0.0  0.0  0.0       0.0      0.0   \n",
       "4  0.0     0.0       0.0       0.0       0.0  0.0  0.0       0.0      0.0   \n",
       "\n",
       "   ambulance  ...  wreckage  wrecked  year  yearold  years  yes  youre  \\\n",
       "0        0.0  ...       0.0      0.0   0.0      0.0    0.0  0.0    0.0   \n",
       "1        0.0  ...       0.0      0.0   0.0      0.0    0.0  0.0    0.0   \n",
       "2        0.0  ...       0.0      0.0   0.0      0.0    0.0  0.0    0.0   \n",
       "3        0.0  ...       0.0      0.0   0.0      0.0    0.0  0.0    0.0   \n",
       "4        0.0  ...       0.0      0.0   0.0      0.0    0.0  0.0    0.0   \n",
       "\n",
       "   youtube   yr  zone  \n",
       "0      0.0  0.0   0.0  \n",
       "1      0.0  0.0   0.0  \n",
       "2      0.0  0.0   0.0  \n",
       "3      0.0  0.0   0.0  \n",
       "4      0.0  0.0   0.0  \n",
       "\n",
       "[5 rows x 500 columns]"
      ]
     },
     "execution_count": 54,
     "metadata": {},
     "output_type": "execute_result"
    }
   ],
   "source": [
    "X.head()"
   ]
  }
 ],
 "metadata": {
  "kernelspec": {
   "display_name": "Python 3 (ipykernel)",
   "language": "python",
   "name": "python3"
  },
  "language_info": {
   "codemirror_mode": {
    "name": "ipython",
    "version": 3
   },
   "file_extension": ".py",
   "mimetype": "text/x-python",
   "name": "python",
   "nbconvert_exporter": "python",
   "pygments_lexer": "ipython3",
   "version": "3.9.20"
  }
 },
 "nbformat": 4,
 "nbformat_minor": 5
}
